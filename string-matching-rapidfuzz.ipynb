{
 "cells": [
  {
   "cell_type": "code",
   "execution_count": 1,
   "id": "79359eeb-6d52-4f00-9707-6d303f615593",
   "metadata": {},
   "outputs": [],
   "source": [
    "import pandas as pd\n",
    "import numpy as np\n",
    "import nltk\n",
    "import warnings\n",
    "import requests\n",
    "import glob"
   ]
  },
  {
   "cell_type": "code",
   "execution_count": 7,
   "id": "e1245454-66b9-4519-8bf1-7bb72cbafaca",
   "metadata": {},
   "outputs": [
    {
     "name": "stdout",
     "output_type": "stream",
     "text": [
      "Collecting rapidfuzz\n",
      "  Downloading rapidfuzz-3.11.0-cp311-cp311-win_amd64.whl.metadata (11 kB)\n",
      "Downloading rapidfuzz-3.11.0-cp311-cp311-win_amd64.whl (1.6 MB)\n",
      "   ---------------------------------------- 0.0/1.6 MB ? eta -:--:--\n",
      "   ---------------------------------------- 0.0/1.6 MB ? eta -:--:--\n",
      "   ---------------------------------------- 0.0/1.6 MB ? eta -:--:--\n",
      "   ------ --------------------------------- 0.3/1.6 MB ? eta -:--:--\n",
      "   ------ --------------------------------- 0.3/1.6 MB ? eta -:--:--\n",
      "   ------ --------------------------------- 0.3/1.6 MB ? eta -:--:--\n",
      "   ------------ --------------------------- 0.5/1.6 MB 390.1 kB/s eta 0:00:03\n",
      "   ------------ --------------------------- 0.5/1.6 MB 390.1 kB/s eta 0:00:03\n",
      "   ------------------- -------------------- 0.8/1.6 MB 486.4 kB/s eta 0:00:02\n",
      "   ------------------- -------------------- 0.8/1.6 MB 486.4 kB/s eta 0:00:02\n",
      "   ------------------------- -------------- 1.0/1.6 MB 518.8 kB/s eta 0:00:02\n",
      "   ------------------------- -------------- 1.0/1.6 MB 518.8 kB/s eta 0:00:02\n",
      "   -------------------------------- ------- 1.3/1.6 MB 550.1 kB/s eta 0:00:01\n",
      "   -------------------------------- ------- 1.3/1.6 MB 550.1 kB/s eta 0:00:01\n",
      "   -------------------------------------- - 1.6/1.6 MB 551.9 kB/s eta 0:00:01\n",
      "   ---------------------------------------- 1.6/1.6 MB 554.0 kB/s eta 0:00:00\n",
      "Installing collected packages: rapidfuzz\n",
      "Successfully installed rapidfuzz-3.11.0\n",
      "Note: you may need to restart the kernel to use updated packages.\n"
     ]
    }
   ],
   "source": [
    "pip install rapidfuzz"
   ]
  },
  {
   "cell_type": "code",
   "execution_count": 2,
   "id": "57907dd3-5f93-4b36-8b64-309b6dd73f76",
   "metadata": {},
   "outputs": [],
   "source": [
    "data = pd.read_csv(\"list_of_real_usa_addresses.csv\")"
   ]
  },
  {
   "cell_type": "code",
   "execution_count": 3,
   "id": "ac5cc03f-0d8b-4e34-b37d-24dc95ea7221",
   "metadata": {},
   "outputs": [
    {
     "data": {
      "text/html": [
       "<div>\n",
       "<style scoped>\n",
       "    .dataframe tbody tr th:only-of-type {\n",
       "        vertical-align: middle;\n",
       "    }\n",
       "\n",
       "    .dataframe tbody tr th {\n",
       "        vertical-align: top;\n",
       "    }\n",
       "\n",
       "    .dataframe thead th {\n",
       "        text-align: right;\n",
       "    }\n",
       "</style>\n",
       "<table border=\"1\" class=\"dataframe\">\n",
       "  <thead>\n",
       "    <tr style=\"text-align: right;\">\n",
       "      <th></th>\n",
       "      <th>address</th>\n",
       "      <th>city</th>\n",
       "      <th>state</th>\n",
       "      <th>zip</th>\n",
       "    </tr>\n",
       "  </thead>\n",
       "  <tbody>\n",
       "    <tr>\n",
       "      <th>0</th>\n",
       "      <td>777 Brockton Avenue</td>\n",
       "      <td>Abington</td>\n",
       "      <td>MA</td>\n",
       "      <td>2351</td>\n",
       "    </tr>\n",
       "    <tr>\n",
       "      <th>1</th>\n",
       "      <td>30 Memorial Drive</td>\n",
       "      <td>Avon</td>\n",
       "      <td>MA</td>\n",
       "      <td>2322</td>\n",
       "    </tr>\n",
       "    <tr>\n",
       "      <th>2</th>\n",
       "      <td>250 Hartford Avenue</td>\n",
       "      <td>Bellingham</td>\n",
       "      <td>MA</td>\n",
       "      <td>2019</td>\n",
       "    </tr>\n",
       "    <tr>\n",
       "      <th>3</th>\n",
       "      <td>700 Oak Street</td>\n",
       "      <td>Brockton</td>\n",
       "      <td>MA</td>\n",
       "      <td>2301</td>\n",
       "    </tr>\n",
       "    <tr>\n",
       "      <th>4</th>\n",
       "      <td>66-4 Parkhurst Rd</td>\n",
       "      <td>Chelmsford</td>\n",
       "      <td>MA</td>\n",
       "      <td>1824</td>\n",
       "    </tr>\n",
       "  </tbody>\n",
       "</table>\n",
       "</div>"
      ],
      "text/plain": [
       "               address        city state   zip\n",
       "0  777 Brockton Avenue    Abington    MA  2351\n",
       "1    30 Memorial Drive        Avon    MA  2322\n",
       "2  250 Hartford Avenue  Bellingham    MA  2019\n",
       "3       700 Oak Street    Brockton    MA  2301\n",
       "4    66-4 Parkhurst Rd  Chelmsford    MA  1824"
      ]
     },
     "execution_count": 3,
     "metadata": {},
     "output_type": "execute_result"
    }
   ],
   "source": [
    "data.head()"
   ]
  },
  {
   "cell_type": "code",
   "execution_count": 4,
   "id": "6dfff509-fe73-48c5-9877-0571741e4f22",
   "metadata": {},
   "outputs": [
    {
     "data": {
      "text/plain": [
       "(234, 4)"
      ]
     },
     "execution_count": 4,
     "metadata": {},
     "output_type": "execute_result"
    }
   ],
   "source": [
    "data.shape"
   ]
  },
  {
   "cell_type": "code",
   "execution_count": 5,
   "id": "42699270-0062-400d-a791-addd8eeb0ecc",
   "metadata": {},
   "outputs": [
    {
     "data": {
      "text/plain": [
       "936"
      ]
     },
     "execution_count": 5,
     "metadata": {},
     "output_type": "execute_result"
    }
   ],
   "source": [
    "data.size"
   ]
  },
  {
   "cell_type": "code",
   "execution_count": 6,
   "id": "fa777627-b12b-4092-adcd-5773e986d5f2",
   "metadata": {},
   "outputs": [
    {
     "data": {
      "text/plain": [
       "address    0\n",
       "city       0\n",
       "state      0\n",
       "zip        0\n",
       "dtype: int64"
      ]
     },
     "execution_count": 6,
     "metadata": {},
     "output_type": "execute_result"
    }
   ],
   "source": [
    "data.isnull().sum() "
   ]
  },
  {
   "cell_type": "code",
   "execution_count": 15,
   "id": "0032ac7b-fa57-4007-8f92-5d11c3a21685",
   "metadata": {},
   "outputs": [
    {
     "name": "stdout",
     "output_type": "stream",
     "text": [
      "Match: True, Similarity Score: 94.5945945945946\n"
     ]
    }
   ],
   "source": [
    "from rapidfuzz import fuzz\n",
    "\n",
    "def addressMatcher(add1, add2, threshold=85):\n",
    "    add1 = add1.lower().strip()\n",
    "    add2 = add2.lower().strip()\n",
    "    \n",
    "    similarity_score = fuzz.token_sort_ratio(add1, add2)\n",
    "    \n",
    "    is_match = similarity_score >= threshold\n",
    "    \n",
    "    return is_match, similarity_score\n",
    "\n",
    "add1 = \"777 Brockton Avenue, Abington, MA 2351\"\n",
    "add2 = \"777 Brockton Ave, Abington, MA 02351\"\n",
    "\n",
    "match, score = addressMatcher(add1, add2)\n",
    "print(f\"Match: {match}, Similarity Score: {score}\")\n"
   ]
  },
  {
   "cell_type": "code",
   "execution_count": null,
   "id": "ccd9ac75-8e4c-4cad-b508-b18c70571740",
   "metadata": {},
   "outputs": [],
   "source": []
  }
 ],
 "metadata": {
  "kernelspec": {
   "display_name": "Python 3 (ipykernel)",
   "language": "python",
   "name": "python3"
  },
  "language_info": {
   "codemirror_mode": {
    "name": "ipython",
    "version": 3
   },
   "file_extension": ".py",
   "mimetype": "text/x-python",
   "name": "python",
   "nbconvert_exporter": "python",
   "pygments_lexer": "ipython3",
   "version": "3.11.2"
  }
 },
 "nbformat": 4,
 "nbformat_minor": 5
}
