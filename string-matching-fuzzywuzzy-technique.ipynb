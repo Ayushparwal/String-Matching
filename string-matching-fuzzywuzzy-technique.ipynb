{
 "cells": [
  {
   "cell_type": "code",
   "execution_count": 1,
   "id": "e6a2c280-8327-40de-b814-1cc2ec15025b",
   "metadata": {},
   "outputs": [],
   "source": [
    "import pandas as pd\n",
    "import numpy as np"
   ]
  },
  {
   "cell_type": "code",
   "execution_count": 15,
   "id": "3320b323-cda6-42c3-8087-d2f129b13ea3",
   "metadata": {},
   "outputs": [],
   "source": [
    "import re\n",
    "from collections import Counter\n",
    "\n",
    "data = pd.read_csv(\"onlytext.csv\")\n",
    "\n",
    "abbreviations = {\n",
    "    \"st\": \"street\", \n",
    "    \"rd\": \"road\", \n",
    "    \"ave\": \"avenue\", \n",
    "    \"blvd\": \"boulevard\", \n",
    "    \"dr\": \"drive\", \n",
    "    \"ln\": \"lane\",\n",
    "    \"hwy\": \"highway\",\n",
    "    \"rt\": \"route\",\n",
    "    \"pkwy\": \"parkway\",\n",
    "    \"ct\": \"court\",\n",
    "    \"s\": \"south\",\n",
    "    \"e\": \"east\",\n",
    "    \"w\": \"west\",\n",
    "    \"n\": \"north\"\n",
    "}\n",
    "\n",
    "def preprocess_address(address, abbreviations):\n",
    "    address = address.lower()\n",
    "    for abbr, full in abbreviations.items():\n",
    "        address = re.sub(r'\\b' + re.escape(abbr) + r'\\b', full, address)\n",
    "    address = re.sub(r'\\s+', ' ', address).strip()\n",
    "    return address\n",
    "# Apply preprocessing to the dataset\n",
    "data['text_processed'] = data['text'].apply(lambda x: preprocess_address(x, abbreviations))"
   ]
  },
  {
   "cell_type": "code",
   "execution_count": 16,
   "id": "a8120276-d7f0-4cfc-920e-632e5935ca82",
   "metadata": {},
   "outputs": [
    {
     "data": {
      "text/html": [
       "<div>\n",
       "<style scoped>\n",
       "    .dataframe tbody tr th:only-of-type {\n",
       "        vertical-align: middle;\n",
       "    }\n",
       "\n",
       "    .dataframe tbody tr th {\n",
       "        vertical-align: top;\n",
       "    }\n",
       "\n",
       "    .dataframe thead th {\n",
       "        text-align: right;\n",
       "    }\n",
       "</style>\n",
       "<table border=\"1\" class=\"dataframe\">\n",
       "  <thead>\n",
       "    <tr style=\"text-align: right;\">\n",
       "      <th></th>\n",
       "      <th>text</th>\n",
       "      <th>text_processed</th>\n",
       "    </tr>\n",
       "  </thead>\n",
       "  <tbody>\n",
       "    <tr>\n",
       "      <th>0</th>\n",
       "      <td>777 Brockton Avenue Abington MA 2351</td>\n",
       "      <td>777 brockton avenue abington ma 2351</td>\n",
       "    </tr>\n",
       "    <tr>\n",
       "      <th>1</th>\n",
       "      <td>30 Memorial Drive Avon MA 2322</td>\n",
       "      <td>30 memorial drive avon ma 2322</td>\n",
       "    </tr>\n",
       "    <tr>\n",
       "      <th>2</th>\n",
       "      <td>250 Hartford Avenue Bellingham MA 2019</td>\n",
       "      <td>250 hartford avenue bellingham ma 2019</td>\n",
       "    </tr>\n",
       "    <tr>\n",
       "      <th>3</th>\n",
       "      <td>700 Oak Street Brockton MA 2301</td>\n",
       "      <td>700 oak street brockton ma 2301</td>\n",
       "    </tr>\n",
       "    <tr>\n",
       "      <th>4</th>\n",
       "      <td>66-4 Parkhurst Rd Chelmsford MA 1824</td>\n",
       "      <td>66-4 parkhurst road chelmsford ma 1824</td>\n",
       "    </tr>\n",
       "  </tbody>\n",
       "</table>\n",
       "</div>"
      ],
      "text/plain": [
       "                                     text  \\\n",
       "0    777 Brockton Avenue Abington MA 2351   \n",
       "1          30 Memorial Drive Avon MA 2322   \n",
       "2  250 Hartford Avenue Bellingham MA 2019   \n",
       "3         700 Oak Street Brockton MA 2301   \n",
       "4    66-4 Parkhurst Rd Chelmsford MA 1824   \n",
       "\n",
       "                           text_processed  \n",
       "0    777 brockton avenue abington ma 2351  \n",
       "1          30 memorial drive avon ma 2322  \n",
       "2  250 hartford avenue bellingham ma 2019  \n",
       "3         700 oak street brockton ma 2301  \n",
       "4  66-4 parkhurst road chelmsford ma 1824  "
      ]
     },
     "execution_count": 16,
     "metadata": {},
     "output_type": "execute_result"
    }
   ],
   "source": [
    "data.head()"
   ]
  },
  {
   "cell_type": "code",
   "execution_count": 17,
   "id": "5d1dc593-e2b1-4776-8e77-410ca459bd9f",
   "metadata": {},
   "outputs": [],
   "source": [
    "data['text_processed'].to_csv('output.csv',index = False)"
   ]
  },
  {
   "cell_type": "code",
   "execution_count": 18,
   "id": "184ff3ba-ad41-4dad-a4ee-8c6e487ed28f",
   "metadata": {},
   "outputs": [],
   "source": [
    "outputdata = pd.read_csv(\"output.csv\")"
   ]
  },
  {
   "cell_type": "code",
   "execution_count": 19,
   "id": "00f58c55-9676-4772-8164-9241bc17cbea",
   "metadata": {},
   "outputs": [
    {
     "data": {
      "text/html": [
       "<div>\n",
       "<style scoped>\n",
       "    .dataframe tbody tr th:only-of-type {\n",
       "        vertical-align: middle;\n",
       "    }\n",
       "\n",
       "    .dataframe tbody tr th {\n",
       "        vertical-align: top;\n",
       "    }\n",
       "\n",
       "    .dataframe thead th {\n",
       "        text-align: right;\n",
       "    }\n",
       "</style>\n",
       "<table border=\"1\" class=\"dataframe\">\n",
       "  <thead>\n",
       "    <tr style=\"text-align: right;\">\n",
       "      <th></th>\n",
       "      <th>text_processed</th>\n",
       "    </tr>\n",
       "  </thead>\n",
       "  <tbody>\n",
       "    <tr>\n",
       "      <th>0</th>\n",
       "      <td>777 brockton avenue abington ma 2351</td>\n",
       "    </tr>\n",
       "    <tr>\n",
       "      <th>1</th>\n",
       "      <td>30 memorial drive avon ma 2322</td>\n",
       "    </tr>\n",
       "    <tr>\n",
       "      <th>2</th>\n",
       "      <td>250 hartford avenue bellingham ma 2019</td>\n",
       "    </tr>\n",
       "    <tr>\n",
       "      <th>3</th>\n",
       "      <td>700 oak street brockton ma 2301</td>\n",
       "    </tr>\n",
       "    <tr>\n",
       "      <th>4</th>\n",
       "      <td>66-4 parkhurst road chelmsford ma 1824</td>\n",
       "    </tr>\n",
       "  </tbody>\n",
       "</table>\n",
       "</div>"
      ],
      "text/plain": [
       "                           text_processed\n",
       "0    777 brockton avenue abington ma 2351\n",
       "1          30 memorial drive avon ma 2322\n",
       "2  250 hartford avenue bellingham ma 2019\n",
       "3         700 oak street brockton ma 2301\n",
       "4  66-4 parkhurst road chelmsford ma 1824"
      ]
     },
     "execution_count": 19,
     "metadata": {},
     "output_type": "execute_result"
    }
   ],
   "source": [
    "outputdata.head()"
   ]
  },
  {
   "cell_type": "code",
   "execution_count": 21,
   "id": "eeffce12-f993-4971-bd49-9ab18383f410",
   "metadata": {},
   "outputs": [
    {
     "name": "stdout",
     "output_type": "stream",
     "text": [
      "Collecting fuzzywuzzyNote: you may need to restart the kernel to use updated packages.\n",
      "\n",
      "  Downloading fuzzywuzzy-0.18.0-py2.py3-none-any.whl.metadata (4.9 kB)\n",
      "Downloading fuzzywuzzy-0.18.0-py2.py3-none-any.whl (18 kB)\n",
      "Installing collected packages: fuzzywuzzy\n",
      "Successfully installed fuzzywuzzy-0.18.0\n"
     ]
    }
   ],
   "source": [
    "pip install fuzzywuzzy"
   ]
  },
  {
   "cell_type": "code",
   "execution_count": 24,
   "id": "c3dfa8f2-3453-4447-b87f-72c1afe32481",
   "metadata": {},
   "outputs": [],
   "source": [
    "from fuzzywuzzy import fuzz\n",
    "from sklearn.feature_extraction.text import TfidfVectorizer\n",
    "from sklearn.metrics.pairwise import cosine_similarity\n",
    "\n",
    "def extract_features(addr1, addr2):\n",
    "    addr1 = preprocess_address(addr1,abbreviations)\n",
    "    addr2 = preprocess_address(addr2,abbreviations)\n",
    "    \n",
    "    fuzzy_score = fuzz.ratio(addr1, addr2) / 100\n",
    "    \n",
    "    vectorizer = TfidfVectorizer().fit_transform([addr1, addr2])\n",
    "    cosine_score = cosine_similarity(vectorizer)[0, 1]\n",
    "    \n",
    "    set1, set2 = set(addr1.split()), set(addr2.split())\n",
    "    jaccard_score = len(set1 & set2) / len(set1 | set2)\n",
    "    \n",
    "    zip_match = 1 if addr1.split()[-1] == addr2.split()[-1] else 0\n",
    "    \n",
    "    return [fuzzy_score, cosine_score, jaccard_score, zip_match]\n"
   ]
  },
  {
   "cell_type": "markdown",
   "id": "757173d9-446c-4d8f-a81b-e8c937673b4c",
   "metadata": {},
   "source": [
    "## trying some example to test."
   ]
  },
  {
   "cell_type": "code",
   "execution_count": 28,
   "id": "62759ea0-fa4b-4bc5-a745-f5fc648f74cc",
   "metadata": {},
   "outputs": [
    {
     "name": "stdout",
     "output_type": "stream",
     "text": [
      "Features:\n",
      "Fuzzy Score: 1.00\n",
      "Cosine Similarity: 1.00\n",
      "Jaccard Similarity: 1.00\n",
      "ZIP Code Match: 1\n"
     ]
    }
   ],
   "source": [
    "addr1 = \"777 Brockton Avenue, Abington, MA 2351\"\n",
    "addr2 = \"777 Brockton Ave, Abington, MA 2351\"\n",
    "\n",
    "features = extract_features(addr1, addr2)\n",
    "\n",
    "# Display the extracted features\n",
    "print(\"Features:\")\n",
    "print(f\"Fuzzy Score: {features[0]:.2f}\")\n",
    "print(f\"Cosine Similarity: {features[1]:.2f}\")\n",
    "print(f\"Jaccard Similarity: {features[2]:.2f}\")\n",
    "print(f\"ZIP Code Match: {features[3]}\")\n"
   ]
  },
  {
   "cell_type": "code",
   "execution_count": 29,
   "id": "a10318d6-2e65-4945-82d8-f385962c22bd",
   "metadata": {},
   "outputs": [
    {
     "name": "stdout",
     "output_type": "stream",
     "text": [
      "Example 1 Features:\n",
      "Fuzzy Score: 0.91\n",
      "Cosine Similarity: 0.50\n",
      "Jaccard Similarity: 0.50\n",
      "ZIP Code Match: 1\n"
     ]
    }
   ],
   "source": [
    "addr1 = \"123 Elm Street, Springfield, IL 62701\"\n",
    "addr2 = \"123 Elmm St, Springfield, Illinois 62701\"\n",
    "\n",
    "features = extract_features(addr1, addr2)\n",
    "print(\"Example 1 Features:\")\n",
    "print(f\"Fuzzy Score: {features[0]:.2f}\")\n",
    "print(f\"Cosine Similarity: {features[1]:.2f}\")\n",
    "print(f\"Jaccard Similarity: {features[2]:.2f}\")\n",
    "print(f\"ZIP Code Match: {features[3]}\")\n",
    "## in this we have spelling variations"
   ]
  },
  {
   "cell_type": "code",
   "execution_count": 30,
   "id": "97016332-7dc3-4cc6-b0c1-de62bc70ff26",
   "metadata": {},
   "outputs": [
    {
     "name": "stdout",
     "output_type": "stream",
     "text": [
      "Example 2 Features:\n",
      "Fuzzy Score: 0.87\n",
      "Cosine Similarity: 0.85\n",
      "Jaccard Similarity: 0.83\n",
      "ZIP Code Match: 1\n"
     ]
    }
   ],
   "source": [
    "addr1 = \"456 Maple Avenue, Dayton, OH 45402\"\n",
    "addr2 = \"456 Maple Ave, OH 45402\"\n",
    "\n",
    "features = extract_features(addr1, addr2)\n",
    "print(\"Example 2 Features:\")\n",
    "print(f\"Fuzzy Score: {features[0]:.2f}\")\n",
    "print(f\"Cosine Similarity: {features[1]:.2f}\")\n",
    "print(f\"Jaccard Similarity: {features[2]:.2f}\")\n",
    "print(f\"ZIP Code Match: {features[3]}\")\n",
    "## in this we have missing components"
   ]
  },
  {
   "cell_type": "code",
   "execution_count": 31,
   "id": "7d2b8eb0-5e7d-460b-aa39-970d2e8e8d7f",
   "metadata": {},
   "outputs": [
    {
     "name": "stdout",
     "output_type": "stream",
     "text": [
      "Example 3 Features:\n",
      "Fuzzy Score: 0.90\n",
      "Cosine Similarity: 0.50\n",
      "Jaccard Similarity: 0.50\n",
      "ZIP Code Match: 0\n"
     ]
    }
   ],
   "source": [
    "addr1 = \"789 Pine Lane, Orlando, FL 32801\"\n",
    "addr2 = \"789 Pine Ln, Orlando, Florida 32810\"\n",
    "\n",
    "features = extract_features(addr1, addr2)\n",
    "print(\"Example 3 Features:\")\n",
    "print(f\"Fuzzy Score: {features[0]:.2f}\")\n",
    "print(f\"Cosine Similarity: {features[1]:.2f}\")\n",
    "print(f\"Jaccard Similarity: {features[2]:.2f}\")\n",
    "print(f\"ZIP Code Match: {features[3]}\")\n",
    "## in this we have different ZIP codes"
   ]
  },
  {
   "cell_type": "code",
   "execution_count": 32,
   "id": "33fcfc81-552b-4e09-9968-e99e6a73f3cc",
   "metadata": {},
   "outputs": [
    {
     "name": "stdout",
     "output_type": "stream",
     "text": [
      "Example 4 Features:\n",
      "Fuzzy Score: 0.83\n",
      "Cosine Similarity: 0.58\n",
      "Jaccard Similarity: 0.57\n",
      "ZIP Code Match: 0\n"
     ]
    }
   ],
   "source": [
    "addr1 = \"10 Downing St, London, UK\"\n",
    "addr2 = \"10 Downing Street, London, United Kingdom\"\n",
    "\n",
    "features = extract_features(addr1, addr2)\n",
    "print(\"Example 4 Features:\")\n",
    "print(f\"Fuzzy Score: {features[0]:.2f}\")\n",
    "print(f\"Cosine Similarity: {features[1]:.2f}\")\n",
    "print(f\"Jaccard Similarity: {features[2]:.2f}\")\n",
    "print(f\"ZIP Code Match: {features[3]}\")\n",
    "## in this we have add some abbreviation and extra noise."
   ]
  },
  {
   "cell_type": "code",
   "execution_count": null,
   "id": "7d0fcba1-189f-4568-9e45-57047230bf7c",
   "metadata": {},
   "outputs": [],
   "source": []
  }
 ],
 "metadata": {
  "kernelspec": {
   "display_name": "Python 3 (ipykernel)",
   "language": "python",
   "name": "python3"
  },
  "language_info": {
   "codemirror_mode": {
    "name": "ipython",
    "version": 3
   },
   "file_extension": ".py",
   "mimetype": "text/x-python",
   "name": "python",
   "nbconvert_exporter": "python",
   "pygments_lexer": "ipython3",
   "version": "3.11.2"
  }
 },
 "nbformat": 4,
 "nbformat_minor": 5
}
